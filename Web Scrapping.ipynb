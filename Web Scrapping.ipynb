{
 "cells": [
  {
   "cell_type": "code",
   "execution_count": 40,
   "id": "f1e06e5e",
   "metadata": {},
   "outputs": [],
   "source": [
    "# pip install requests\n",
    "# pip install html5lib\n",
    "# pip install bs4\n",
    "from urllib.request import urlopen\n",
    "from bs4 import BeautifulSoup\n",
    "import re\n",
    "import pandas as pd"
   ]
  },
  {
   "cell_type": "code",
   "execution_count": 27,
   "id": "56576a1a",
   "metadata": {
    "scrolled": true
   },
   "outputs": [],
   "source": [
    "###  Getting the entire webpage here\n"
   ]
  },
  {
   "cell_type": "code",
   "execution_count": null,
   "id": "1894830b",
   "metadata": {},
   "outputs": [],
   "source": [
    "# Work Completed\n",
    "1. getting list of military satellites\n",
    "2. getting list of chinese satellites"
   ]
  },
  {
   "cell_type": "code",
   "execution_count": null,
   "id": "befee74a",
   "metadata": {},
   "outputs": [],
   "source": [
    "# To Do\n",
    "1. get chinese military satellites by using intersection\n",
    "2. get the indvl satellite data\n"
   ]
  },
  {
   "cell_type": "code",
   "execution_count": 81,
   "id": "2b2c42a2",
   "metadata": {
    "scrolled": true
   },
   "outputs": [
    {
     "name": "stdout",
     "output_type": "stream",
     "text": [
      "DataFrame is written to Excel File successfully.\n"
     ]
    }
   ],
   "source": [
    "# Working on all Military satellites\n",
    "\n",
    "# This code returns a list of all military satellites\n",
    "\n",
    "\n",
    "\n",
    "# this below is the link to all the military satellites.\n",
    "milHtml = urlopen(\"https://www.n2yo.com/satellites/?c=30\")\n",
    "soup = BeautifulSoup(milHtml.read(),  \"html.parser\")\n",
    "# To displa all the contents of the BS call to the website, generally it is the html code\n",
    "# print(soup.contents)\n",
    "\n",
    "# print(soup.find_all('table')[1])\n",
    "\n",
    "table = soup.find_all('table')[1]\n",
    "# print(table)\n",
    "\n",
    "data = []\n",
    "rows = table.find_all('tr')\n",
    "# print(rows)\n",
    "for row in rows:\n",
    "    cols = row.find_all('td')\n",
    "    cols = [ele.text.strip() for ele in cols]\n",
    "    data.append([ele for ele in cols if ele]) # Get rid of empty values\n",
    "\n",
    "# to be used while displaying list in Beautify format    \n",
    "# print(*(x for x in data), sep='\\n') \n",
    "\n",
    "tableName = ['Satellite Name', 'Norad Id', 'International Code', 'Launch Date', 'Period (in mins )', 'Track It Button']\n",
    "\n",
    "op = []\n",
    "\n",
    "for x in data:\n",
    "    d = dict(zip(tableName, x))\n",
    "    op.append(d)\n",
    "\n",
    "op.remove({}) # removing the first empty dictionary\n",
    "dfData = pd.DataFrame(op)\n",
    "dfData.drop(dfData.index[0])\n",
    "# print(dfData) # printing the data in tabular format for own purposes\n",
    "\n",
    "\n",
    "file_name = 'Military Sats.xlsx'\n",
    "\n",
    "# saving the excel \n",
    "dfData.to_excel(file_name) \n",
    "print('DataFrame is written to Excel File successfully.')"
   ]
  },
  {
   "cell_type": "code",
   "execution_count": 52,
   "id": "856e4b2c",
   "metadata": {
    "scrolled": true
   },
   "outputs": [
    {
     "name": "stdout",
     "output_type": "stream",
     "text": [
      "              Satellite Name Norad Id International Code        Launch Date  \\\n",
      "0                      SJ-23    55131          2023-002A    January 8, 2023   \n",
      "1    SHIYAN 10 02 (SY-10 02)    54878          2022-178A  December 29, 2022   \n",
      "2              XW-4 (CAS-10)    54816          2021-035C     April 29, 2021   \n",
      "3          SHIYAN 21 (SY-21)    54752          2022-172A  December 16, 2022   \n",
      "4               SZ-14 MODULE    54704          2022-060G       June 5, 2022   \n",
      "..                       ...      ...                ...                ...   \n",
      "594  CHINASAT 5 (SPACENET 1)    14985          1984-049A       May 23, 1984   \n",
      "595                  STTW-T2    14899          1984-035A      April 8, 1984   \n",
      "596                  STTW-T1    14670          1984-008A   January 29, 1984   \n",
      "597                    DFH-1     4382          1970-034A     April 24, 1970   \n",
      "598                      NaN      NaN                NaN                NaN   \n",
      "\n",
      "    Period (in mins ) Track It Button  \n",
      "0               644.5        TRACK IT  \n",
      "1               715.9        TRACK IT  \n",
      "2                91.9        TRACK IT  \n",
      "3                94.3        TRACK IT  \n",
      "4                92.2        TRACK IT  \n",
      "..                ...             ...  \n",
      "594            1440.2        TRACK IT  \n",
      "595            1436.2        TRACK IT  \n",
      "596             160.1        TRACK IT  \n",
      "597               110        TRACK IT  \n",
      "598               NaN             NaN  \n",
      "\n",
      "[599 rows x 6 columns]\n",
      "DataFrame is written to Excel File successfully.\n"
     ]
    }
   ],
   "source": [
    "## Working on all Chinese Satellites\n",
    "\n",
    "# This Code returns a list of all Chinese Satellites\n",
    "\n",
    "htmlLink = urlopen(\"https://www.n2yo.com/satellites/?c=PRC&t=country\")\n",
    "soup = BeautifulSoup(htmlLink.read(),  \"html.parser\")\n",
    "table = soup.find('table', class_=\"footable countrytab\")\n",
    "data = []\n",
    "rows = table.find_all('tr')\n",
    "for row in rows:\n",
    "    cols = row.find_all('td')\n",
    "    cols = [ele.text.strip() for ele in cols]\n",
    "    data.append([ele for ele in cols if ele]) # Get rid of empty values\n",
    "\n",
    "# to be used while displaying list in Beautify format    \n",
    "# print(*(x for x in data), sep='\\n') \n",
    "\n",
    "tableName = ['Satellite Name', 'Norad Id', 'International Code', 'Launch Date', 'Period (in mins )', 'Track It Button']\n",
    "\n",
    "op = []\n",
    "\n",
    "for x in data:\n",
    "    d = dict(zip(tableName, x))\n",
    "    op.append(d)\n",
    "\n",
    "op.remove({}) # removing the first empty dictionary\n",
    "dfData = pd.DataFrame(op)\n",
    "#  print(dfData) # printing the data in tabular format for own purposes\n",
    "\n",
    "\n",
    "file_name = 'Chinese Sats.xlsx'\n",
    "\n",
    "# saving the excel \n",
    "dfData.to_excel(file_name) \n",
    "print('DataFrame is written to Excel File successfully.')\n"
   ]
  },
  {
   "cell_type": "code",
   "execution_count": 34,
   "id": "ca8ddece",
   "metadata": {},
   "outputs": [
    {
     "name": "stdout",
     "output_type": "stream",
     "text": [
      "https://www.n2yo.com/satellite/?s=33531\n"
     ]
    }
   ],
   "source": [
    "# get data for specific chinese satellite.\n",
    "\n",
    "baseWebLink = 'https://www.n2yo.com/satellite/?s='\n",
    "baseWebLink +='33531'\n",
    "print(baseWebLink)\n",
    "# htmlLink = urlopen('55131')\n",
    "\n"
   ]
  },
  {
   "cell_type": "code",
   "execution_count": null,
   "id": "8f982f47",
   "metadata": {},
   "outputs": [],
   "source": [
    "# Getting individual military satellite data\n",
    "#. https://www.n2yo.com/?s=52259\n"
   ]
  }
 ],
 "metadata": {
  "kernelspec": {
   "display_name": "Python 3 (ipykernel)",
   "language": "python",
   "name": "python3"
  },
  "language_info": {
   "codemirror_mode": {
    "name": "ipython",
    "version": 3
   },
   "file_extension": ".py",
   "mimetype": "text/x-python",
   "name": "python",
   "nbconvert_exporter": "python",
   "pygments_lexer": "ipython3",
   "version": "3.11.0"
  }
 },
 "nbformat": 4,
 "nbformat_minor": 5
}
